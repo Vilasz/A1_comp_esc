{
 "cells": [
  {
   "cell_type": "code",
   "execution_count": 3,
   "id": "3443d464",
   "metadata": {},
   "outputs": [
    {
     "name": "stdout",
     "output_type": "stream",
     "text": [
      "Collecting plotly\n",
      "  Using cached plotly-6.0.1-py3-none-any.whl.metadata (6.7 kB)\n",
      "Collecting narwhals>=1.15.1 (from plotly)\n",
      "  Using cached narwhals-1.35.0-py3-none-any.whl.metadata (9.2 kB)\n",
      "Requirement already satisfied: packaging in c:\\users\\joaof\\appdata\\local\\programs\\python\\python312\\lib\\site-packages (from plotly) (24.2)\n",
      "Using cached plotly-6.0.1-py3-none-any.whl (14.8 MB)\n",
      "Using cached narwhals-1.35.0-py3-none-any.whl (325 kB)\n",
      "Installing collected packages: narwhals, plotly\n",
      "Successfully installed narwhals-1.35.0 plotly-6.0.1\n",
      "Note: you may need to restart the kernel to use updated packages.\n"
     ]
    },
    {
     "name": "stderr",
     "output_type": "stream",
     "text": [
      "\n",
      "[notice] A new release of pip is available: 24.3.1 -> 25.0.1\n",
      "[notice] To update, run: python.exe -m pip install --upgrade pip\n"
     ]
    }
   ],
   "source": [
    "%pip install plotly"
   ]
  },
  {
   "cell_type": "code",
   "execution_count": 5,
   "id": "8953361a",
   "metadata": {},
   "outputs": [
    {
     "name": "stdout",
     "output_type": "stream",
     "text": [
      "Collecting faker\n",
      "  Using cached faker-37.1.0-py3-none-any.whl.metadata (15 kB)\n",
      "Requirement already satisfied: tzdata in c:\\users\\joaof\\appdata\\local\\programs\\python\\python312\\lib\\site-packages (from faker) (2024.2)\n",
      "Using cached faker-37.1.0-py3-none-any.whl (1.9 MB)\n",
      "Installing collected packages: faker\n",
      "Successfully installed faker-37.1.0\n",
      "Note: you may need to restart the kernel to use updated packages.\n"
     ]
    },
    {
     "name": "stderr",
     "output_type": "stream",
     "text": [
      "\n",
      "[notice] A new release of pip is available: 24.3.1 -> 25.0.1\n",
      "[notice] To update, run: python.exe -m pip install --upgrade pip\n"
     ]
    }
   ],
   "source": [
    "%pip install faker"
   ]
  },
  {
   "cell_type": "code",
   "execution_count": 6,
   "id": "416f03ee",
   "metadata": {},
   "outputs": [
    {
     "name": "stdout",
     "output_type": "stream",
     "text": [
      "Benchmark para workers = [1, 2, 4, 6, 8, 12]\n",
      "CSV gerado: C:\\Users\\joaof\\A1_comp_esc\\new\\bench_mock.csv  (500,000 linhas)\n",
      "JSON gerado: C:\\Users\\joaof\\A1_comp_esc\\new\\bench_mock.json  (200,000 pedidos)\n"
     ]
    },
    {
     "name": "stderr",
     "output_type": "stream",
     "text": [
      "Chunks: 100%|██████████| 35/35 [05:00<00:00,  8.58s/it]\n",
      "Benchmark:  17%|█▋        | 1/6 [05:04<25:21, 304.38s/config]"
     ]
    },
    {
     "name": "stdout",
     "output_type": "stream",
     "text": [
      "\n",
      "=========== REPORT ===========\n",
      "Workers (hybrid) : 1  (máx CPU 12)\n",
      "Dados            : 700,000 registros  CSV 500,000 | JSON 200,000\n",
      "Loops/registro   : 500\n",
      "Chunks           : 35  (≈20000 regs)\n",
      "Tempo wall       : 301.4s   Throughput 2,322 r/s\n",
      "\n",
      "TOP canais por receita:\n",
      "  telefone   R$ 1,106,887,429\n",
      "  site       R$ 1,105,926,473\n",
      "  loja       R$ 1,103,764,489\n",
      "  app        R$ 1,095,336,399\n",
      "\n",
      "TOP estados por quantidade:\n",
      "  RJ 89,347\n",
      "  MA 88,915\n",
      "  PE 88,813\n",
      "  RN 88,801\n",
      "  RS 88,662\n",
      "\n",
      "--- Métricas internas ---\n",
      " records_processed 680000\n",
      "==============================\n"
     ]
    },
    {
     "name": "stderr",
     "output_type": "stream",
     "text": [
      "Chunks: 100%|██████████| 35/35 [02:19<00:00,  3.98s/it]\n",
      "Benchmark:  33%|███▎      | 2/6 [07:27<13:57, 209.42s/config]"
     ]
    },
    {
     "name": "stdout",
     "output_type": "stream",
     "text": [
      "\n",
      "=========== REPORT ===========\n",
      "Workers (hybrid) : 2  (máx CPU 12)\n",
      "Dados            : 700,000 registros  CSV 500,000 | JSON 200,000\n",
      "Loops/registro   : 500\n",
      "Chunks           : 35  (≈20000 regs)\n",
      "Tempo wall       : 140.6s   Throughput 4,978 r/s\n",
      "\n",
      "TOP canais por receita:\n",
      "  telefone   R$ 1,106,695,119\n",
      "  site       R$ 1,105,968,178\n",
      "  loja       R$ 1,103,788,292\n",
      "  app        R$ 1,095,483,145\n",
      "\n",
      "TOP estados por quantidade:\n",
      "  RJ 89,347\n",
      "  MA 88,915\n",
      "  PE 88,813\n",
      "  RN 88,801\n",
      "  RS 88,662\n",
      "\n",
      "--- Métricas internas ---\n",
      " records_processed 1340000\n",
      "==============================\n"
     ]
    },
    {
     "name": "stderr",
     "output_type": "stream",
     "text": [
      "Chunks: 100%|██████████| 35/35 [02:13<00:00,  3.81s/it]\n",
      "Benchmark:  50%|█████     | 3/6 [09:47<08:53, 177.77s/config]"
     ]
    },
    {
     "name": "stdout",
     "output_type": "stream",
     "text": [
      "\n",
      "=========== REPORT ===========\n",
      "Workers (hybrid) : 4  (máx CPU 12)\n",
      "Dados            : 700,000 registros  CSV 500,000 | JSON 200,000\n",
      "Loops/registro   : 500\n",
      "Chunks           : 35  (≈20000 regs)\n",
      "Tempo wall       : 137.8s   Throughput 5,080 r/s\n",
      "\n",
      "TOP canais por receita:\n",
      "  telefone   R$ 1,106,691,059\n",
      "  site       R$ 1,106,222,489\n",
      "  loja       R$ 1,103,552,385\n",
      "  app        R$ 1,095,471,460\n",
      "\n",
      "TOP estados por quantidade:\n",
      "  RJ 89,347\n",
      "  MA 88,915\n",
      "  PE 88,813\n",
      "  RN 88,801\n",
      "  RS 88,662\n",
      "\n",
      "--- Métricas internas ---\n",
      " records_processed 1960000\n",
      "==============================\n"
     ]
    },
    {
     "name": "stderr",
     "output_type": "stream",
     "text": [
      "Chunks: 100%|██████████| 35/35 [02:03<00:00,  3.52s/it]\n",
      "Benchmark:  67%|██████▋   | 4/6 [11:59<05:19, 159.73s/config]"
     ]
    },
    {
     "name": "stdout",
     "output_type": "stream",
     "text": [
      "\n",
      "=========== REPORT ===========\n",
      "Workers (hybrid) : 6  (máx CPU 12)\n",
      "Dados            : 700,000 registros  CSV 500,000 | JSON 200,000\n",
      "Loops/registro   : 500\n",
      "Chunks           : 35  (≈20000 regs)\n",
      "Tempo wall       : 129.6s   Throughput 5,403 r/s\n",
      "\n",
      "TOP canais por receita:\n",
      "  telefone   R$ 1,106,549,081\n",
      "  site       R$ 1,106,191,599\n",
      "  loja       R$ 1,103,792,363\n",
      "  app        R$ 1,095,542,338\n",
      "\n",
      "TOP estados por quantidade:\n",
      "  RJ 89,347\n",
      "  MA 88,915\n",
      "  PE 88,813\n",
      "  RN 88,801\n",
      "  RS 88,662\n",
      "\n",
      "--- Métricas internas ---\n",
      " records_processed 2540000\n",
      "==============================\n"
     ]
    },
    {
     "name": "stderr",
     "output_type": "stream",
     "text": [
      "Chunks: 100%|██████████| 35/35 [01:51<00:00,  3.19s/it]\n",
      "Benchmark:  83%|████████▎ | 5/6 [14:05<02:27, 147.53s/config]"
     ]
    },
    {
     "name": "stdout",
     "output_type": "stream",
     "text": [
      "\n",
      "=========== REPORT ===========\n",
      "Workers (hybrid) : 8  (máx CPU 12)\n",
      "Dados            : 700,000 registros  CSV 500,000 | JSON 200,000\n",
      "Loops/registro   : 500\n",
      "Chunks           : 35  (≈20000 regs)\n",
      "Tempo wall       : 123.4s   Throughput 5,671 r/s\n",
      "\n",
      "TOP canais por receita:\n",
      "  telefone   R$ 1,106,666,663\n",
      "  site       R$ 1,106,054,630\n",
      "  loja       R$ 1,103,593,740\n",
      "  app        R$ 1,095,623,530\n",
      "\n",
      "TOP estados por quantidade:\n",
      "  RJ 89,347\n",
      "  MA 88,915\n",
      "  PE 88,813\n",
      "  RN 88,801\n",
      "  RS 88,662\n",
      "\n",
      "--- Métricas internas ---\n",
      " records_processed 3080000\n",
      "==============================\n"
     ]
    },
    {
     "name": "stderr",
     "output_type": "stream",
     "text": [
      "Chunks: 100%|██████████| 35/35 [01:34<00:00,  2.70s/it]\n",
      "Benchmark: 100%|██████████| 6/6 [15:57<00:00, 159.50s/config]"
     ]
    },
    {
     "name": "stdout",
     "output_type": "stream",
     "text": [
      "\n",
      "=========== REPORT ===========\n",
      "Workers (hybrid) : 12  (máx CPU 12)\n",
      "Dados            : 700,000 registros  CSV 500,000 | JSON 200,000\n",
      "Loops/registro   : 500\n",
      "Chunks           : 35  (≈20000 regs)\n",
      "Tempo wall       : 109.1s   Throughput 6,413 r/s\n",
      "\n",
      "TOP canais por receita:\n",
      "  telefone   R$ 1,106,930,963\n",
      "  site       R$ 1,106,209,810\n",
      "  loja       R$ 1,103,622,015\n",
      "  app        R$ 1,095,649,792\n",
      "\n",
      "TOP estados por quantidade:\n",
      "  RJ 89,347\n",
      "  MA 88,915\n",
      "  PE 88,813\n",
      "  RN 88,801\n",
      "  RS 88,662\n",
      "\n",
      "--- Métricas internas ---\n",
      " records_processed 3540000\n",
      "==============================\n"
     ]
    },
    {
     "name": "stderr",
     "output_type": "stream",
     "text": [
      "\n"
     ]
    },
    {
     "ename": "ValueError",
     "evalue": "Mime type rendering requires nbformat>=4.2.0 but it is not installed",
     "output_type": "error",
     "traceback": [
      "\u001b[31m---------------------------------------------------------------------------\u001b[39m",
      "\u001b[31mValueError\u001b[39m                                Traceback (most recent call last)",
      "\u001b[36mCell\u001b[39m\u001b[36m \u001b[39m\u001b[32mIn[6]\u001b[39m\u001b[32m, line 4\u001b[39m\n\u001b[32m      1\u001b[39m \u001b[38;5;28;01mfrom\u001b[39;00m \u001b[34;01mbenchmark_utils\u001b[39;00m \u001b[38;5;28;01mimport\u001b[39;00m benchmark_scaling\n\u001b[32m      3\u001b[39m \u001b[38;5;66;03m# roda e mostra o gráfico para 1, 4, 8 e 12 workers\u001b[39;00m\n\u001b[32m----> \u001b[39m\u001b[32m4\u001b[39m fig, df_times = \u001b[43mbenchmark_scaling\u001b[49m\u001b[43m(\u001b[49m\n\u001b[32m      5\u001b[39m \u001b[43m    \u001b[49m\u001b[43mworkers_seq\u001b[49m\u001b[43m=\u001b[49m\u001b[43m[\u001b[49m\u001b[32;43m1\u001b[39;49m\u001b[43m,\u001b[49m\u001b[32;43m2\u001b[39;49m\u001b[43m,\u001b[49m\u001b[43m \u001b[49m\u001b[32;43m4\u001b[39;49m\u001b[43m,\u001b[49m\u001b[43m \u001b[49m\u001b[32;43m6\u001b[39;49m\u001b[43m,\u001b[49m\u001b[43m \u001b[49m\u001b[32;43m8\u001b[39;49m\u001b[43m,\u001b[49m\u001b[43m \u001b[49m\u001b[32;43m12\u001b[39;49m\u001b[43m]\u001b[49m\u001b[43m,\u001b[49m\n\u001b[32m      6\u001b[39m \u001b[43m    \u001b[49m\u001b[43mcsv_size\u001b[49m\u001b[43m=\u001b[49m\u001b[32;43m500_000\u001b[39;49m\u001b[43m,\u001b[49m\n\u001b[32m      7\u001b[39m \u001b[43m    \u001b[49m\u001b[43mjson_size\u001b[49m\u001b[43m=\u001b[49m\u001b[32;43m200_000\u001b[39;49m\u001b[43m,\u001b[49m\n\u001b[32m      8\u001b[39m \u001b[43m    \u001b[49m\u001b[43mloops\u001b[49m\u001b[43m=\u001b[49m\u001b[32;43m500\u001b[39;49m\u001b[43m,\u001b[49m\n\u001b[32m      9\u001b[39m \u001b[43m)\u001b[49m\n\u001b[32m     10\u001b[39m df_times\n",
      "\u001b[36mFile \u001b[39m\u001b[32mc:\\Users\\joaof\\A1_comp_esc\\new\\benchmark_utils.py:140\u001b[39m, in \u001b[36mbenchmark_scaling\u001b[39m\u001b[34m(workers_seq, csv_size, json_size, loops, regenerate, chunksize, db_path, csv_path, json_path, show_fig, save_png)\u001b[39m\n\u001b[32m    137\u001b[39m fig.update_traces(text=df[\u001b[33m\"\u001b[39m\u001b[33mwall_time\u001b[39m\u001b[33m\"\u001b[39m].round(\u001b[32m1\u001b[39m), textposition=\u001b[33m\"\u001b[39m\u001b[33mtop center\u001b[39m\u001b[33m\"\u001b[39m)\n\u001b[32m    139\u001b[39m \u001b[38;5;28;01mif\u001b[39;00m show_fig:\n\u001b[32m--> \u001b[39m\u001b[32m140\u001b[39m     \u001b[43mfig\u001b[49m\u001b[43m.\u001b[49m\u001b[43mshow\u001b[49m\u001b[43m(\u001b[49m\u001b[43m)\u001b[49m\n\u001b[32m    142\u001b[39m \u001b[38;5;28;01mif\u001b[39;00m save_png:\n\u001b[32m    143\u001b[39m     save_last_plot(fig, \u001b[33m\"\u001b[39m\u001b[33mbenchmark_scaling.png\u001b[39m\u001b[33m\"\u001b[39m)\n",
      "\u001b[36mFile \u001b[39m\u001b[32mc:\\Users\\joaof\\AppData\\Local\\Programs\\Python\\Python312\\Lib\\site-packages\\plotly\\basedatatypes.py:3414\u001b[39m, in \u001b[36mBaseFigure.show\u001b[39m\u001b[34m(self, *args, **kwargs)\u001b[39m\n\u001b[32m   3381\u001b[39m \u001b[38;5;250m\u001b[39m\u001b[33;03m\"\"\"\u001b[39;00m\n\u001b[32m   3382\u001b[39m \u001b[33;03mShow a figure using either the default renderer(s) or the renderer(s)\u001b[39;00m\n\u001b[32m   3383\u001b[39m \u001b[33;03mspecified by the renderer argument\u001b[39;00m\n\u001b[32m   (...)\u001b[39m\u001b[32m   3410\u001b[39m \u001b[33;03mNone\u001b[39;00m\n\u001b[32m   3411\u001b[39m \u001b[33;03m\"\"\"\u001b[39;00m\n\u001b[32m   3412\u001b[39m \u001b[38;5;28;01mimport\u001b[39;00m \u001b[34;01mplotly\u001b[39;00m\u001b[34;01m.\u001b[39;00m\u001b[34;01mio\u001b[39;00m \u001b[38;5;28;01mas\u001b[39;00m \u001b[34;01mpio\u001b[39;00m\n\u001b[32m-> \u001b[39m\u001b[32m3414\u001b[39m \u001b[38;5;28;01mreturn\u001b[39;00m \u001b[43mpio\u001b[49m\u001b[43m.\u001b[49m\u001b[43mshow\u001b[49m\u001b[43m(\u001b[49m\u001b[38;5;28;43mself\u001b[39;49m\u001b[43m,\u001b[49m\u001b[43m \u001b[49m\u001b[43m*\u001b[49m\u001b[43margs\u001b[49m\u001b[43m,\u001b[49m\u001b[43m \u001b[49m\u001b[43m*\u001b[49m\u001b[43m*\u001b[49m\u001b[43mkwargs\u001b[49m\u001b[43m)\u001b[49m\n",
      "\u001b[36mFile \u001b[39m\u001b[32mc:\\Users\\joaof\\AppData\\Local\\Programs\\Python\\Python312\\Lib\\site-packages\\plotly\\io\\_renderers.py:425\u001b[39m, in \u001b[36mshow\u001b[39m\u001b[34m(fig, renderer, validate, **kwargs)\u001b[39m\n\u001b[32m    420\u001b[39m     \u001b[38;5;28;01mraise\u001b[39;00m \u001b[38;5;167;01mValueError\u001b[39;00m(\n\u001b[32m    421\u001b[39m         \u001b[33m\"\u001b[39m\u001b[33mMime type rendering requires ipython but it is not installed\u001b[39m\u001b[33m\"\u001b[39m\n\u001b[32m    422\u001b[39m     )\n\u001b[32m    424\u001b[39m \u001b[38;5;28;01mif\u001b[39;00m \u001b[38;5;129;01mnot\u001b[39;00m nbformat \u001b[38;5;129;01mor\u001b[39;00m Version(nbformat.__version__) < Version(\u001b[33m\"\u001b[39m\u001b[33m4.2.0\u001b[39m\u001b[33m\"\u001b[39m):\n\u001b[32m--> \u001b[39m\u001b[32m425\u001b[39m     \u001b[38;5;28;01mraise\u001b[39;00m \u001b[38;5;167;01mValueError\u001b[39;00m(\n\u001b[32m    426\u001b[39m         \u001b[33m\"\u001b[39m\u001b[33mMime type rendering requires nbformat>=4.2.0 but it is not installed\u001b[39m\u001b[33m\"\u001b[39m\n\u001b[32m    427\u001b[39m     )\n\u001b[32m    429\u001b[39m display_jupyter_version_warnings()\n\u001b[32m    431\u001b[39m ipython_display.display(bundle, raw=\u001b[38;5;28;01mTrue\u001b[39;00m)\n",
      "\u001b[31mValueError\u001b[39m: Mime type rendering requires nbformat>=4.2.0 but it is not installed"
     ]
    }
   ],
   "source": [
    "from benchmark_utils import benchmark_scaling\n",
    "\n",
    "# roda e mostra o gráfico para 1, 4, 8 e 12 workers\n",
    "fig, df_times = benchmark_scaling(\n",
    "    workers_seq=[1,2, 4, 6, 8, 12],\n",
    "    csv_size=500_000,\n",
    "    json_size=200_000,\n",
    "    loops=500,\n",
    ")\n",
    "df_times\n"
   ]
  },
  {
   "cell_type": "code",
   "execution_count": null,
   "id": "821bed98",
   "metadata": {},
   "outputs": [],
   "source": []
  }
 ],
 "metadata": {
  "kernelspec": {
   "display_name": "Python 3",
   "language": "python",
   "name": "python3"
  },
  "language_info": {
   "codemirror_mode": {
    "name": "ipython",
    "version": 3
   },
   "file_extension": ".py",
   "mimetype": "text/x-python",
   "name": "python",
   "nbconvert_exporter": "python",
   "pygments_lexer": "ipython3",
   "version": "3.12.8"
  }
 },
 "nbformat": 4,
 "nbformat_minor": 5
}
